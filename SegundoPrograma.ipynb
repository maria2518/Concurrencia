{
 "cells": [
  {
   "cell_type": "markdown",
   "id": "89b80ee0-ff76-4f36-a083-b5c8b8ea24a7",
   "metadata": {},
   "source": [
    "# Segundo Programa"
   ]
  },
  {
   "cell_type": "markdown",
   "id": "4e6c6258-bc85-4f43-87f8-986882c814f5",
   "metadata": {},
   "source": [
    "1. Cuantos cores/cpu's tiene su equipo"
   ]
  },
  {
   "cell_type": "code",
   "execution_count": 2,
   "id": "be266ec0-fbb0-42aa-bba0-0037d1cacf80",
   "metadata": {},
   "outputs": [],
   "source": [
    "import os "
   ]
  },
  {
   "cell_type": "code",
   "execution_count": 3,
   "id": "f6ebebbe-48cd-437d-8b20-40aee0bd8afe",
   "metadata": {},
   "outputs": [
    {
     "data": {
      "text/plain": [
       "4"
      ]
     },
     "execution_count": 3,
     "metadata": {},
     "output_type": "execute_result"
    }
   ],
   "source": [
    "os.cpu_count()"
   ]
  },
  {
   "cell_type": "markdown",
   "id": "7725d91b-e139-4d2e-938e-b05f31b985e1",
   "metadata": {},
   "source": [
    "2. Cuantos cores/cpu's fisicos tiene su equipo"
   ]
  },
  {
   "cell_type": "code",
   "execution_count": 12,
   "id": "6fc99e7a-56aa-4ce2-ac51-bfd792919172",
   "metadata": {},
   "outputs": [
    {
     "name": "stdout",
     "output_type": "stream",
     "text": [
      "Mi equipo tiene 2.0 físicos\n"
     ]
    }
   ],
   "source": [
    "print(\"Mi equipo tiene \"+ str(os.cpu_count()/2)+\" físicos\")"
   ]
  },
  {
   "cell_type": "markdown",
   "id": "6aa9fe5b-a84a-4aeb-b762-17a6f3ebf1d5",
   "metadata": {},
   "source": [
    "3. Cuantos cores/cpu's lógicos tiene su equipo"
   ]
  },
  {
   "cell_type": "code",
   "execution_count": 13,
   "id": "9cad0b70-40be-496a-9032-2bed90f3ba05",
   "metadata": {},
   "outputs": [
    {
     "name": "stdout",
     "output_type": "stream",
     "text": [
      "Mi equipo tiene 4 lógicos\n"
     ]
    }
   ],
   "source": [
    "print(\"Mi equipo tiene \"+ str(os.cpu_count())+\" lógicos\")"
   ]
  },
  {
   "cell_type": "markdown",
   "id": "70a49a97-12d6-49a5-b988-311d8497fff2",
   "metadata": {},
   "source": [
    "4. cree una función con el objetivo de mantener su cpu activa durante 10 segundos"
   ]
  },
  {
   "cell_type": "code",
   "execution_count": null,
   "id": "b8d9fbce-d499-450b-8fda-aa49656dbbc0",
   "metadata": {},
   "outputs": [],
   "source": [
    "def diez():\n",
    "    while True:\n",
    "        pass"
   ]
  },
  {
   "cell_type": "code",
   "execution_count": 17,
   "id": "220bb41c-eab7-4d99-b9c7-a7e27f9ce862",
   "metadata": {},
   "outputs": [],
   "source": [
    "def ten():\n",
    "    for i in range(1000):\n",
    "        pass"
   ]
  },
  {
   "cell_type": "code",
   "execution_count": 18,
   "id": "512c406b-f31a-41dd-8298-b2429195f1d1",
   "metadata": {},
   "outputs": [
    {
     "data": {
      "text/plain": [
       "2712"
      ]
     },
     "execution_count": 18,
     "metadata": {},
     "output_type": "execute_result"
    }
   ],
   "source": [
    "os.getpid()"
   ]
  },
  {
   "cell_type": "markdown",
   "id": "35540daf-5725-4483-a9c1-8a990e7c5224",
   "metadata": {},
   "source": [
    "5. Que verion de Python tienes instalada?"
   ]
  },
  {
   "cell_type": "code",
   "execution_count": 14,
   "id": "e0babc14-5a22-4655-85b3-37536dc0adb4",
   "metadata": {},
   "outputs": [],
   "source": [
    "import platform as pl"
   ]
  },
  {
   "cell_type": "code",
   "execution_count": 15,
   "id": "aaf0396a-d977-4754-8b3a-4d183e4a8031",
   "metadata": {},
   "outputs": [
    {
     "data": {
      "text/plain": [
       "'3.8.8'"
      ]
     },
     "execution_count": 15,
     "metadata": {},
     "output_type": "execute_result"
    }
   ],
   "source": [
    "pl.python_version()"
   ]
  },
  {
   "cell_type": "markdown",
   "id": "be2a0d26-2871-4613-b013-6af3548fa9bc",
   "metadata": {},
   "source": [
    "6. El busde su maq. es de 32 o 64? "
   ]
  },
  {
   "cell_type": "code",
   "execution_count": 19,
   "id": "97c593f3-e7ec-40e4-b2ec-1dd987110b50",
   "metadata": {},
   "outputs": [
    {
     "data": {
      "text/plain": [
       "('64bit', 'WindowsPE')"
      ]
     },
     "execution_count": 19,
     "metadata": {},
     "output_type": "execute_result"
    }
   ],
   "source": [
    "pl.architecture()"
   ]
  },
  {
   "cell_type": "markdown",
   "id": "d214d13a-4871-4f4e-af3a-c3f1dfcceae2",
   "metadata": {},
   "source": [
    "7. cree una función del 1 al 10?"
   ]
  },
  {
   "cell_type": "code",
   "execution_count": 21,
   "id": "e0322796-ab9b-4748-917f-14f545e85a3f",
   "metadata": {},
   "outputs": [],
   "source": [
    "def to_ten():\n",
    "    for i in range (1, 11):\n",
    "        print(i)"
   ]
  },
  {
   "cell_type": "markdown",
   "id": "b3fd5b05-e1b3-42bf-80ae-819cc0f6ddc9",
   "metadata": {},
   "source": [
    "8. Ejecute concurrentemente 20 veces la función antes mencionada"
   ]
  },
  {
   "cell_type": "code",
   "execution_count": 22,
   "id": "8f2dc19a-7c81-4ac2-adeb-ea5d9a3b9711",
   "metadata": {},
   "outputs": [],
   "source": [
    "import threading as th"
   ]
  },
  {
   "cell_type": "code",
   "execution_count": 23,
   "id": "6a3ca99d-189e-4102-a5c9-c55ecf4b78b7",
   "metadata": {},
   "outputs": [
    {
     "name": "stdout",
     "output_type": "stream",
     "text": [
      "1\n",
      "2\n",
      "3\n",
      "4\n",
      "5\n",
      "6\n",
      "7\n",
      "8\n",
      "9\n",
      "10\n"
     ]
    }
   ],
   "source": [
    "th.Thread(target=to_ten).start()"
   ]
  },
  {
   "cell_type": "code",
   "execution_count": null,
   "id": "b201a448-1f35-4438-bcf2-5c7de8a35278",
   "metadata": {},
   "outputs": [],
   "source": [
    "for i in range(100):\n",
    "    th.Thread(target=to_ten).start()"
   ]
  },
  {
   "cell_type": "markdown",
   "id": "84820bd6-cdfc-4cac-acb0-308a513f5539",
   "metadata": {},
   "source": [
    "9. Cuantos hilos activos hay?"
   ]
  },
  {
   "cell_type": "code",
   "execution_count": 24,
   "id": "3d4f20ee-b0c2-40f9-a7ab-2eafff1f8cc2",
   "metadata": {},
   "outputs": [
    {
     "data": {
      "text/plain": [
       "5"
      ]
     },
     "execution_count": 24,
     "metadata": {},
     "output_type": "execute_result"
    }
   ],
   "source": [
    "th.active_count()"
   ]
  },
  {
   "cell_type": "markdown",
   "id": "69b59819-af6c-48cd-9392-94ba1c48ee2e",
   "metadata": {},
   "source": [
    "10. Imprima sus Dni's y matelos"
   ]
  },
  {
   "cell_type": "code",
   "execution_count": null,
   "id": "5c474fdf-3ba5-442c-975c-75bf1e2315f4",
   "metadata": {},
   "outputs": [],
   "source": [
    "th.enumerate()"
   ]
  },
  {
   "cell_type": "code",
   "execution_count": null,
   "id": "14a455a5-470c-45f1-97d0-b0d710802951",
   "metadata": {},
   "outputs": [],
   "source": []
  },
  {
   "cell_type": "code",
   "execution_count": null,
   "id": "288ec18a-7e41-4b04-a3c2-34d68dc30030",
   "metadata": {},
   "outputs": [],
   "source": []
  }
 ],
 "metadata": {
  "kernelspec": {
   "display_name": "Python 3",
   "language": "python",
   "name": "python3"
  },
  "language_info": {
   "codemirror_mode": {
    "name": "ipython",
    "version": 3
   },
   "file_extension": ".py",
   "mimetype": "text/x-python",
   "name": "python",
   "nbconvert_exporter": "python",
   "pygments_lexer": "ipython3",
   "version": "3.8.8"
  }
 },
 "nbformat": 4,
 "nbformat_minor": 5
}
