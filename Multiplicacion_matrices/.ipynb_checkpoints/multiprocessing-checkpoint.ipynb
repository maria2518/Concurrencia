{
 "cells": [
  {
   "cell_type": "markdown",
   "id": "8ecc698e-7e72-4b55-a04f-327be9cf97fb",
   "metadata": {},
   "source": [
    "<h1 style=\"text-align:center\" > Programacion Concurrente y distribuida</h1> <h2 style=\"text-align:center\" > Practica examen </h2><a href=\"https://github.com/maria2518?tab=repositories\"><img src=\"https://avatars.githubusercontent.com/u/72942734?v=4\" title = \"Maria Teresa Rodriguez 22072362\" alt=\"Maria Teresa Rodriguez 22072362\" width=\"100\" height=\"100\" style=\"float:left;vertical-align:centre\"><img src=\"https://ue-non-prod.s3.us-west-1.amazonaws.com/icons/UE_Europea_400x160.png\" title = \"Maria Teresa Rodriguez 22072362\" alt=\"Maria Teresa Rodriguez 22072362\" width=\"100\" height=\"100\" style=\"float:right;vertical-align:centre\">"
   ]
  },
  {
   "cell_type": "markdown",
   "id": "2c862d5f-175b-4713-85dc-be79d7e44092",
   "metadata": {},
   "source": [
    "### Enunciado\n",
    "Se va arealizar un sorteo entre los estudiantes de la universidad, por motivos de la navidad, genere una lista/vector con los primeros 200 estudiantes, de los 16.000 que estudian en la UE, en cada elemento deberá almacenarse el número de expediente de forma aleatoria, no uses numpay"
   ]
  },
  {
   "cell_type": "code",
   "execution_count": 11,
   "id": "2aebeca7-2ae4-470e-8b5a-70c6121b8653",
   "metadata": {},
   "outputs": [],
   "source": [
    "import random, numpy as np"
   ]
  },
  {
   "cell_type": "code",
   "execution_count": null,
   "id": "5ee0a708-3f0e-4669-9297-6bc37dcc6b9f",
   "metadata": {},
   "outputs": [],
   "source": [
    "[random.randrange(21_000_000, 22_999_999)for i in range(200)]"
   ]
  },
  {
   "cell_type": "code",
   "execution_count": 20,
   "id": "b003bb63-ca9c-47fa-982f-7a807d53f6e0",
   "metadata": {},
   "outputs": [],
   "source": [
    "a=[[j for j in range(200)]for i in range(200)]"
   ]
  },
  {
   "cell_type": "code",
   "execution_count": 8,
   "id": "a1ca0cb0-5313-4022-aa32-d477dbae0969",
   "metadata": {},
   "outputs": [
    {
     "data": {
      "text/plain": [
       "list"
      ]
     },
     "execution_count": 8,
     "metadata": {},
     "output_type": "execute_result"
    }
   ],
   "source": [
    "type(a)"
   ]
  },
  {
   "cell_type": "code",
   "execution_count": 12,
   "id": "5ef636d8-665f-4dfa-9164-aff3663999c0",
   "metadata": {},
   "outputs": [],
   "source": [
    "am = np.asarray(a)"
   ]
  },
  {
   "cell_type": "code",
   "execution_count": 13,
   "id": "70295275-5a42-4ead-82b6-8db4a4453847",
   "metadata": {},
   "outputs": [
    {
     "data": {
      "text/plain": [
       "array([[  0,   1,   2, ..., 197, 198, 199],\n",
       "       [  0,   1,   2, ..., 197, 198, 199],\n",
       "       [  0,   1,   2, ..., 197, 198, 199],\n",
       "       ...,\n",
       "       [  0,   1,   2, ..., 197, 198, 199],\n",
       "       [  0,   1,   2, ..., 197, 198, 199],\n",
       "       [  0,   1,   2, ..., 197, 198, 199]])"
      ]
     },
     "execution_count": 13,
     "metadata": {},
     "output_type": "execute_result"
    }
   ],
   "source": [
    "am"
   ]
  },
  {
   "cell_type": "code",
   "execution_count": null,
   "id": "8ed5cb49-71ad-412d-a1a5-1103701a82b9",
   "metadata": {},
   "outputs": [],
   "source": []
  }
 ],
 "metadata": {
  "kernelspec": {
   "display_name": "Python 3",
   "language": "python",
   "name": "python3"
  },
  "language_info": {
   "codemirror_mode": {
    "name": "ipython",
    "version": 3
   },
   "file_extension": ".py",
   "mimetype": "text/x-python",
   "name": "python",
   "nbconvert_exporter": "python",
   "pygments_lexer": "ipython3",
   "version": "3.8.8"
  }
 },
 "nbformat": 4,
 "nbformat_minor": 5
}
